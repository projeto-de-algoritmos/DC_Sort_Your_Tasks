{
 "cells": [
  {
   "cell_type": "markdown",
   "metadata": {
    "id": "Il49idB55jQl"
   },
   "source": [
    "# Dividir e Conquistar"
   ]
  },
  {
   "cell_type": "markdown",
   "metadata": {
    "id": "mzMVnpum5wqz"
   },
   "source": [
    "## Mergesort\n",
    "Este algoritmo de ordenação funciona de maneira bem simples:"
   ]
  },
  {
   "cell_type": "markdown",
   "metadata": {
    "id": "zd0EHCGZ6vvS"
   },
   "source": [
    "1- inicialmente divide-se o vetor a ser ordenado em duas metades.\n",
    "\n",
    "2- Recursivamente repete-se essa divisão até que sobrem apenas vetores de um unico elemento que por definição estarão ordenados.\n",
    "\n",
    "3- Na etapa final esses vetores ordenados serão mesclados com outros vetores ordenados de um elemento formando vetores ordenados de dois elementos, depois que todos estiverem com dois elementos serão mesclados novamente e assim por diante até que todos os elementos retornem ao vetor final."
   ]
  },
  {
   "cell_type": "code",
   "execution_count": 1,
   "metadata": {
    "id": "w1C6xG1p6yUI"
   },
   "outputs": [],
   "source": [
    "def merge_sort(vetor):\n",
    "  # primeiro verificamos se já está dividido em vetores unitários\n",
    "    if len(vetor) < 2:\n",
    "        return vetor\n",
    "\n",
    "    # Dividimos o vetor em dois\n",
    "    meio = len(vetor)//2\n",
    "\n",
    "    # Dividimos o vetor em duas partes\n",
    "    esquerda = merge_sort(vetor[:meio])\n",
    "    direita = merge_sort(vetor[meio:])\n",
    "\n",
    "    # Unimos as duas partes ordenadas\n",
    "    merged = merge(esquerda, direita)\n",
    "    return merged\n",
    "\n",
    "def merge(esquerda, direita):\n",
    "\n",
    "\t#  Se um dos lados estiver vazio significa que é um vetor unitário, logo estará ordenado, com isso em mente verificamos se o vetor possui elementos a esquerda/direita\n",
    "  \n",
    "    if not len(esquerda):\n",
    "        return esquerda\n",
    "\n",
    "    if not len(direita):\n",
    "        return direita\n",
    "\n",
    "    resultado = []\n",
    "    esquerdaIndex = 0\n",
    "    direitaIndex = 0\n",
    "    totalLen = len(esquerda) + len(direita)\n",
    "\n",
    "    while (len(resultado) < totalLen):\n",
    "        # Executamos as comparações necessários e unimos as duas partes\n",
    "        if esquerda[esquerdaIndex] < direita[direitaIndex]:\n",
    "            resultado.append(esquerda[esquerdaIndex])\n",
    "            esquerdaIndex += 1\n",
    "        else:\n",
    "            resultado.append(direita[direitaIndex])\n",
    "            direitaIndex += 1\n",
    "        if esquerdaIndex == len(esquerda) or direitaIndex == len(direita):\n",
    "            resultado.extend(esquerda[esquerdaIndex:] or direita[direitaIndex:])\n",
    "            break\n",
    "    return resultado"
   ]
  },
  {
   "cell_type": "code",
   "execution_count": 2,
   "metadata": {
    "colab": {
     "base_uri": "https://localhost:8080/"
    },
    "id": "T_FqR9_fDyxL",
    "outputId": "c19306de-5eba-42a6-a7da-5538f8f66922"
   },
   "outputs": [
    {
     "name": "stdout",
     "output_type": "stream",
     "text": [
      "[1, 2, 8, 15, 16, 17, 19, 25, 32, 60, 85]\n"
     ]
    }
   ],
   "source": [
    "array = [25, 32, 17, 1, 8, 85, 16, 2, 15, 19, 60]\n",
    "sorted_array = merge_sort(array)\n",
    "print(sorted_array)"
   ]
  },
  {
   "cell_type": "markdown",
   "metadata": {
    "id": "5iA5jlmcD6HF"
   },
   "source": [
    "# Quick Sort"
   ]
  },
  {
   "cell_type": "markdown",
   "metadata": {
    "id": "jaon2XbeEMjW"
   },
   "source": [
    "Semelhante ao Merge Sort esse algoritmo utiliza da estratégia de dividir e conquistar  mas com a vantagem de não utilizar o dobro do espaço como ocorre no merge sort. Porém pode ocorrer uma queda no desempenho desse algoritmo caso não seja possível dividir ao meio a lista que será ordenada."
   ]
  },
  {
   "cell_type": "markdown",
   "metadata": {
    "id": "ocWrhujaHlho"
   },
   "source": [
    "1- O primeiro passo será escolher um valor que será o pivô, a escolha deste pivô pode ser aprimorado o que auxiliaria na performance do algoritmo, as principais formas de escolher esse pivô são:\n",
    "\n",
    "1.1 - Primeiro valor do array\n",
    "\n",
    "1.2 - Ultimo valor do array\n",
    "\n",
    "1.3 - Elemento aleatório do array\n",
    "\n",
    "1.4 - A mediana de três valores desse array\n",
    "\n",
    "Aqui utilizaremos da escolha do pivô como o primeiro valor do array. Mas essa escolha pode resultar em uma performance ruim caso seja escolhido um valor que não possua elementos a sua direita ou a sua esquerda. Sendo n log(n) em média e n² neste pior caso.\n"
   ]
  },
  {
   "cell_type": "markdown",
   "metadata": {
    "id": "UdhptXS2Ozip"
   },
   "source": [
    "Essa escolha faz com que seja criado um ponto de divisão do vetor na posição a que essa velor pertece de fato.\n",
    "\n",
    "2. Com esse valor sendo o de posição 0 (neste caso) marca-se os valores mais a esquerda e o mais a direita do vetor e os coloca do lado correto em relação ao pivô, valores menores que ele a sua esquerda e os valores maiores a sua direita.\n",
    "\n",
    "3. Com esse pivô na posição correta obtemos dois vetores, um de valores maiores e outro de valores menores que o pivô, e fazemos isso repetidamente para cada divisão até que todos os pivôs escolhidos fiquem na sua posição correta com vetor de tamanho 1 como ocorre no merge sort.\n",
    "\n",
    "4. Após todos os vetores unitários serem formados faz-se os \"merge\" desses vetores unitários, e isso se repete até que todos os valores retornem.\n",
    "\n"
   ]
  },
  {
   "cell_type": "code",
   "execution_count": 3,
   "metadata": {
    "id": "m_yDlI7FTnar"
   },
   "outputs": [],
   "source": [
    "def quickSort(lista):\n",
    "   quickSortHelper(lista,0,len(lista)-1)\n",
    "\n",
    "def quickSortHelper(lista,esquerda,direita):\n",
    "   if esquerda<direita:\n",
    "\n",
    "       divisao = dividir(lista,esquerda,direita)\n",
    "\n",
    "       quickSortHelper(lista,esquerda,divisao-1)\n",
    "       quickSortHelper(lista,divisao+1,direita)\n",
    "\n",
    "\n",
    "def dividir(lista,esquerda,direita):\n",
    "   pivo = lista[esquerda]\n",
    "\n",
    "   marcaesquerda = esquerda+1\n",
    "   marcadireita = direita\n",
    "\n",
    "   completo = False\n",
    "   while not completo:\n",
    "\n",
    "       while marcaesquerda <= marcadireita and lista[marcaesquerda] <= pivo:\n",
    "           marcaesquerda = marcaesquerda + 1\n",
    "\n",
    "       while lista[marcadireita] >= pivo and marcadireita >= marcaesquerda:\n",
    "           marcadireita = marcadireita -1\n",
    "\n",
    "       if marcadireita < marcaesquerda:\n",
    "           completo = True\n",
    "       else:\n",
    "           temp = lista[marcaesquerda]\n",
    "           lista[marcaesquerda] = lista[marcadireita]\n",
    "           lista[marcadireita] = temp\n",
    "\n",
    "   temp = lista[esquerda]\n",
    "   lista[esquerda] = lista[marcadireita]\n",
    "   lista[marcadireita] = temp\n",
    "\n",
    "\n",
    "   return marcadireita\n"
   ]
  },
  {
   "cell_type": "code",
   "execution_count": 4,
   "metadata": {
    "colab": {
     "base_uri": "https://localhost:8080/"
    },
    "id": "ExDPXb-KJs4q",
    "outputId": "e0c0b8a3-4dbf-466d-b5ee-0599fadc8c9f"
   },
   "outputs": [
    {
     "name": "stdout",
     "output_type": "stream",
     "text": [
      "[17, 20, 26, 31, 44, 54, 55, 77, 93]\n"
     ]
    }
   ],
   "source": [
    "lista = [54,26,93,17,77,31,44,55,20]\n",
    "quickSort(lista)\n",
    "print(lista)"
   ]
  },
  {
   "cell_type": "markdown",
   "metadata": {
    "id": "nYP9gEZkYUFP"
   },
   "source": [
    "# Busca Binária"
   ]
  },
  {
   "cell_type": "markdown",
   "metadata": {
    "id": "6G9lIRzoYZmN"
   },
   "source": [
    "Sabendo que temos um vetor ordenado podemos utilizar da busca binária para otimizar nossa busca fazendo uso da estratégia de dividir para conquistar conseguirmos encontrar com O(log n) o que é muito superior se comparado a busca linear que seria do O(n).\n",
    "\n",
    "1. Inicialmente partimos de um chute, nesse chute supomos que esse valor se encontra na metade do vetor que estamos fazendo a busca, se o chute foi certeiro a busca termina.\n",
    "\n",
    "2. Caso não seja o valor buscado compara-se esse valor obtido e o compara com o valor buscado, se esse valor da metade do vetor for maior que o valor buscado os valores a partir deste ponto seguindo a direita serão descartados e será refeita o passo 1 com esse novo vetor ou o contrário caso o valor obtido seja menor que o valor buscado.\n"
   ]
  },
  {
   "cell_type": "code",
   "execution_count": 5,
   "metadata": {
    "id": "E0aEsVQrl7H3"
   },
   "outputs": [],
   "source": [
    "def busca_binaria(vetor, esquerda, direita, item):\n",
    "    # 1. Caso base: o elemento não está presente. \n",
    "    if direita < esquerda:\n",
    "        return -1\n",
    "    meio = (esquerda + direita) // 2\n",
    "    # 2. Nosso palpite estava certo: o elemento está no meio do arranjo. \n",
    "    if vetor[meio] == item:\n",
    "        return meio\n",
    "    # 3. O palpite estava errado: atualizamos os limites e continuamos a busca. \n",
    "    elif vetor[meio] > item:\n",
    "        return busca_binaria(vetor, esquerda, meio - 1, item)\n",
    "    else: # vetor[meio] < item\n",
    "        return busca_binaria(vetor, meio + 1, direita, item)"
   ]
  },
  {
   "cell_type": "code",
   "execution_count": 6,
   "metadata": {
    "colab": {
     "base_uri": "https://localhost:8080/"
    },
    "id": "ctItFmiKnMqD",
    "outputId": "2939a091-6d46-4431-ef4c-b534646cba4b"
   },
   "outputs": [
    {
     "data": {
      "text/plain": [
       "[1, 2, 8, 15, 16, 17, 19, 25, 32, 60, 85]"
      ]
     },
     "execution_count": 6,
     "metadata": {},
     "output_type": "execute_result"
    }
   ],
   "source": [
    "sorted_array"
   ]
  },
  {
   "cell_type": "code",
   "execution_count": 7,
   "metadata": {
    "colab": {
     "base_uri": "https://localhost:8080/"
    },
    "id": "8tdhjWaom8xr",
    "outputId": "86dd67e2-0486-454a-93eb-8176fea1230d"
   },
   "outputs": [
    {
     "name": "stdout",
     "output_type": "stream",
     "text": [
      "Índice que está o valor buscado 3\n",
      "Índice que está o valor buscado 7\n",
      "Índice que está o valor buscado 10\n",
      "Índice que está o valor buscado -1\n"
     ]
    }
   ],
   "source": [
    "print(\"Índice que está o valor buscado\", busca_binaria(sorted_array, 0, len(sorted_array) - 1, 15))\n",
    "print(\"Índice que está o valor buscado\", busca_binaria(sorted_array, 0, len(sorted_array) - 1, 25))\n",
    "print(\"Índice que está o valor buscado\", busca_binaria(sorted_array, 0, len(sorted_array) - 1, 85))\n",
    "print(\"Índice que está o valor buscado\", busca_binaria(sorted_array, 0, len(sorted_array) - 1, 33))"
   ]
  }
 ],
 "metadata": {
  "colab": {
   "collapsed_sections": [],
   "name": "D&C.ipynb",
   "provenance": []
  },
  "kernelspec": {
   "display_name": "Python 3 (ipykernel)",
   "language": "python",
   "name": "python3"
  },
  "language_info": {
   "codemirror_mode": {
    "name": "ipython",
    "version": 3
   },
   "file_extension": ".py",
   "mimetype": "text/x-python",
   "name": "python",
   "nbconvert_exporter": "python",
   "pygments_lexer": "ipython3",
   "version": "3.8.10"
  }
 },
 "nbformat": 4,
 "nbformat_minor": 4
}
